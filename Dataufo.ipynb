{
  "nbformat": 4,
  "nbformat_minor": 0,
  "metadata": {
    "colab": {
      "name": "Dataufo.ipynb",
      "provenance": [],
      "authorship_tag": "ABX9TyPCNEIY1tDsOkE55fYecFCC",
      "include_colab_link": true
    },
    "kernelspec": {
      "name": "python3",
      "display_name": "Python 3"
    },
    "language_info": {
      "name": "python"
    }
  },
  "cells": [
    {
      "cell_type": "markdown",
      "metadata": {
        "id": "view-in-github",
        "colab_type": "text"
      },
      "source": [
        "<a href=\"https://colab.research.google.com/github/Dai-7/datascience_alura/blob/main/Dataufo.ipynb\" target=\"_parent\"><img src=\"https://colab.research.google.com/assets/colab-badge.svg\" alt=\"Open In Colab\"/></a>"
      ]
    },
    {
      "cell_type": "code",
      "metadata": {
        "colab": {
          "base_uri": "https://localhost:8080/",
          "height": 598
        },
        "id": "UFFQvuq2W9EG",
        "outputId": "ec1a430d-ea22-4f54-c2fd-b43dfbe339b7"
      },
      "source": [
        " import pandas as pd\n",
        " \n",
        " url_dados='https://query.data.world/s/hrntdsmvc6sj2j2tts4kx4h3cng5i3'\n",
        " dados = pd.read_csv(url_dados)\n",
        "dados.head()"
      ],
      "execution_count": null,
      "outputs": [
        {
          "output_type": "execute_result",
          "data": {
            "text/html": [
              "<div>\n",
              "<style scoped>\n",
              "    .dataframe tbody tr th:only-of-type {\n",
              "        vertical-align: middle;\n",
              "    }\n",
              "\n",
              "    .dataframe tbody tr th {\n",
              "        vertical-align: top;\n",
              "    }\n",
              "\n",
              "    .dataframe thead th {\n",
              "        text-align: right;\n",
              "    }\n",
              "</style>\n",
              "<table border=\"1\" class=\"dataframe\">\n",
              "  <thead>\n",
              "    <tr style=\"text-align: right;\">\n",
              "      <th></th>\n",
              "      <th>summary</th>\n",
              "      <th>city</th>\n",
              "      <th>state</th>\n",
              "      <th>date_time</th>\n",
              "      <th>shape</th>\n",
              "      <th>duration</th>\n",
              "      <th>stats</th>\n",
              "      <th>report_link</th>\n",
              "      <th>text</th>\n",
              "      <th>posted</th>\n",
              "      <th>city_latitude</th>\n",
              "      <th>city_longitude</th>\n",
              "    </tr>\n",
              "  </thead>\n",
              "  <tbody>\n",
              "    <tr>\n",
              "      <th>0</th>\n",
              "      <td>My wife was driving southeast on a fairly popu...</td>\n",
              "      <td>Chester</td>\n",
              "      <td>VA</td>\n",
              "      <td>2019-12-12T18:43:00</td>\n",
              "      <td>light</td>\n",
              "      <td>5 seconds</td>\n",
              "      <td>Occurred : 12/12/2019 18:43  (Entered as : 12/...</td>\n",
              "      <td>http://www.nuforc.org/webreports/151/S151739.html</td>\n",
              "      <td>My wife was driving southeast on a fairly popu...</td>\n",
              "      <td>2019-12-22T00:00:00</td>\n",
              "      <td>37.343152</td>\n",
              "      <td>-77.408582</td>\n",
              "    </tr>\n",
              "    <tr>\n",
              "      <th>1</th>\n",
              "      <td>I think that I may caught a UFO on the NBC Nig...</td>\n",
              "      <td>Rocky Hill</td>\n",
              "      <td>CT</td>\n",
              "      <td>2019-03-22T18:30:00</td>\n",
              "      <td>circle</td>\n",
              "      <td>3-5 seconds</td>\n",
              "      <td>Occurred : 3/22/2019 18:30  (Entered as : 03/2...</td>\n",
              "      <td>http://www.nuforc.org/webreports/145/S145297.html</td>\n",
              "      <td>I think that I may caught a UFO on the NBC Nig...</td>\n",
              "      <td>2019-03-29T00:00:00</td>\n",
              "      <td>41.664800</td>\n",
              "      <td>-72.639300</td>\n",
              "    </tr>\n",
              "    <tr>\n",
              "      <th>2</th>\n",
              "      <td>I woke up late in the afternoon 3:30-4pm. I we...</td>\n",
              "      <td>NaN</td>\n",
              "      <td>NaN</td>\n",
              "      <td>NaN</td>\n",
              "      <td>NaN</td>\n",
              "      <td>NaN</td>\n",
              "      <td>Occurred : 4/1/2019 15:45  (Entered as : April...</td>\n",
              "      <td>http://www.nuforc.org/webreports/145/S145556.html</td>\n",
              "      <td>I woke up late in the afternoon 3:30-4pm.  I w...</td>\n",
              "      <td>NaN</td>\n",
              "      <td>NaN</td>\n",
              "      <td>NaN</td>\n",
              "    </tr>\n",
              "    <tr>\n",
              "      <th>3</th>\n",
              "      <td>I was driving towards the intersection of fall...</td>\n",
              "      <td>Ottawa</td>\n",
              "      <td>ON</td>\n",
              "      <td>2019-04-17T02:00:00</td>\n",
              "      <td>teardrop</td>\n",
              "      <td>10 seconds</td>\n",
              "      <td>Occurred : 4/17/2019 02:00  (Entered as : 04-1...</td>\n",
              "      <td>http://www.nuforc.org/webreports/145/S145697.html</td>\n",
              "      <td>I was driving towards the intersection of fall...</td>\n",
              "      <td>2019-04-18T00:00:00</td>\n",
              "      <td>45.381383</td>\n",
              "      <td>-75.708501</td>\n",
              "    </tr>\n",
              "    <tr>\n",
              "      <th>4</th>\n",
              "      <td>In Peoria Arizona, I saw a cigar shaped craft ...</td>\n",
              "      <td>Peoria</td>\n",
              "      <td>NY</td>\n",
              "      <td>2009-03-15T18:00:00</td>\n",
              "      <td>cigar</td>\n",
              "      <td>2 minutes</td>\n",
              "      <td>Occurred : 3/15/2009 18:00  (Entered as : 03/1...</td>\n",
              "      <td>http://www.nuforc.org/webreports/145/S145723.html</td>\n",
              "      <td>In Peoria, Arizona, I saw a cigar shaped craft...</td>\n",
              "      <td>2019-04-18T00:00:00</td>\n",
              "      <td>NaN</td>\n",
              "      <td>NaN</td>\n",
              "    </tr>\n",
              "  </tbody>\n",
              "</table>\n",
              "</div>"
            ],
            "text/plain": [
              "                                             summary  ... city_longitude\n",
              "0  My wife was driving southeast on a fairly popu...  ...     -77.408582\n",
              "1  I think that I may caught a UFO on the NBC Nig...  ...     -72.639300\n",
              "2  I woke up late in the afternoon 3:30-4pm. I we...  ...            NaN\n",
              "3  I was driving towards the intersection of fall...  ...     -75.708501\n",
              "4  In Peoria Arizona, I saw a cigar shaped craft ...  ...            NaN\n",
              "\n",
              "[5 rows x 12 columns]"
            ]
          },
          "metadata": {
            "tags": []
          },
          "execution_count": 6
        }
      ]
    },
    {
      "cell_type": "code",
      "metadata": {
        "colab": {
          "base_uri": "https://localhost:8080/"
        },
        "id": "LaYFK9m2Yt7Z",
        "outputId": "3ad4d56e-c007-4a92-e580-e62c69230c09"
      },
      "source": [
        "dados.head"
      ],
      "execution_count": null,
      "outputs": [
        {
          "output_type": "execute_result",
          "data": {
            "text/plain": [
              "<bound method NDFrame.head of                                                  summary  ... city_longitude\n",
              "0      My wife was driving southeast on a fairly popu...  ...     -77.408582\n",
              "1      I think that I may caught a UFO on the NBC Nig...  ...     -72.639300\n",
              "2      I woke up late in the afternoon 3:30-4pm. I we...  ...            NaN\n",
              "3      I was driving towards the intersection of fall...  ...     -75.708501\n",
              "4      In Peoria Arizona, I saw a cigar shaped craft ...  ...            NaN\n",
              "...                                                  ...  ...            ...\n",
              "88120  4 lights in formation over Tempe appear while ...  ...    -111.920920\n",
              "88121  2 bright star like lights in the NNW skys,  ((...  ...     -93.399600\n",
              "88122  I just witnessed a ‘Phoenix Lights’ type of fo...  ...     -82.223280\n",
              "88123  Witnessed an orange, slow moving light. Was lo...  ...     -82.313200\n",
              "88124  Glowing lights in formation  just south of San...  ...            NaN\n",
              "\n",
              "[88125 rows x 12 columns]>"
            ]
          },
          "metadata": {
            "tags": []
          },
          "execution_count": 7
        }
      ]
    },
    {
      "cell_type": "code",
      "metadata": {
        "colab": {
          "base_uri": "https://localhost:8080/"
        },
        "id": "3rdT8ebrr_ON",
        "outputId": "7279fc1a-5e4f-4251-cc93-3a3527d31191"
      },
      "source": [
        "dados.shape"
      ],
      "execution_count": null,
      "outputs": [
        {
          "output_type": "execute_result",
          "data": {
            "text/plain": [
              "(88125, 12)"
            ]
          },
          "metadata": {
            "tags": []
          },
          "execution_count": 8
        }
      ]
    },
    {
      "cell_type": "code",
      "metadata": {
        "colab": {
          "base_uri": "https://localhost:8080/",
          "height": 598
        },
        "id": "cKVwIAVNsIJZ",
        "outputId": "9b3eda84-e209-4286-a48a-c7a26826e23c"
      },
      "source": [
        "dados.head()"
      ],
      "execution_count": null,
      "outputs": [
        {
          "output_type": "execute_result",
          "data": {
            "text/html": [
              "<div>\n",
              "<style scoped>\n",
              "    .dataframe tbody tr th:only-of-type {\n",
              "        vertical-align: middle;\n",
              "    }\n",
              "\n",
              "    .dataframe tbody tr th {\n",
              "        vertical-align: top;\n",
              "    }\n",
              "\n",
              "    .dataframe thead th {\n",
              "        text-align: right;\n",
              "    }\n",
              "</style>\n",
              "<table border=\"1\" class=\"dataframe\">\n",
              "  <thead>\n",
              "    <tr style=\"text-align: right;\">\n",
              "      <th></th>\n",
              "      <th>summary</th>\n",
              "      <th>city</th>\n",
              "      <th>state</th>\n",
              "      <th>date_time</th>\n",
              "      <th>shape</th>\n",
              "      <th>duration</th>\n",
              "      <th>stats</th>\n",
              "      <th>report_link</th>\n",
              "      <th>text</th>\n",
              "      <th>posted</th>\n",
              "      <th>city_latitude</th>\n",
              "      <th>city_longitude</th>\n",
              "    </tr>\n",
              "  </thead>\n",
              "  <tbody>\n",
              "    <tr>\n",
              "      <th>0</th>\n",
              "      <td>My wife was driving southeast on a fairly popu...</td>\n",
              "      <td>Chester</td>\n",
              "      <td>VA</td>\n",
              "      <td>2019-12-12T18:43:00</td>\n",
              "      <td>light</td>\n",
              "      <td>5 seconds</td>\n",
              "      <td>Occurred : 12/12/2019 18:43  (Entered as : 12/...</td>\n",
              "      <td>http://www.nuforc.org/webreports/151/S151739.html</td>\n",
              "      <td>My wife was driving southeast on a fairly popu...</td>\n",
              "      <td>2019-12-22T00:00:00</td>\n",
              "      <td>37.343152</td>\n",
              "      <td>-77.408582</td>\n",
              "    </tr>\n",
              "    <tr>\n",
              "      <th>1</th>\n",
              "      <td>I think that I may caught a UFO on the NBC Nig...</td>\n",
              "      <td>Rocky Hill</td>\n",
              "      <td>CT</td>\n",
              "      <td>2019-03-22T18:30:00</td>\n",
              "      <td>circle</td>\n",
              "      <td>3-5 seconds</td>\n",
              "      <td>Occurred : 3/22/2019 18:30  (Entered as : 03/2...</td>\n",
              "      <td>http://www.nuforc.org/webreports/145/S145297.html</td>\n",
              "      <td>I think that I may caught a UFO on the NBC Nig...</td>\n",
              "      <td>2019-03-29T00:00:00</td>\n",
              "      <td>41.664800</td>\n",
              "      <td>-72.639300</td>\n",
              "    </tr>\n",
              "    <tr>\n",
              "      <th>2</th>\n",
              "      <td>I woke up late in the afternoon 3:30-4pm. I we...</td>\n",
              "      <td>NaN</td>\n",
              "      <td>NaN</td>\n",
              "      <td>NaN</td>\n",
              "      <td>NaN</td>\n",
              "      <td>NaN</td>\n",
              "      <td>Occurred : 4/1/2019 15:45  (Entered as : April...</td>\n",
              "      <td>http://www.nuforc.org/webreports/145/S145556.html</td>\n",
              "      <td>I woke up late in the afternoon 3:30-4pm.  I w...</td>\n",
              "      <td>NaN</td>\n",
              "      <td>NaN</td>\n",
              "      <td>NaN</td>\n",
              "    </tr>\n",
              "    <tr>\n",
              "      <th>3</th>\n",
              "      <td>I was driving towards the intersection of fall...</td>\n",
              "      <td>Ottawa</td>\n",
              "      <td>ON</td>\n",
              "      <td>2019-04-17T02:00:00</td>\n",
              "      <td>teardrop</td>\n",
              "      <td>10 seconds</td>\n",
              "      <td>Occurred : 4/17/2019 02:00  (Entered as : 04-1...</td>\n",
              "      <td>http://www.nuforc.org/webreports/145/S145697.html</td>\n",
              "      <td>I was driving towards the intersection of fall...</td>\n",
              "      <td>2019-04-18T00:00:00</td>\n",
              "      <td>45.381383</td>\n",
              "      <td>-75.708501</td>\n",
              "    </tr>\n",
              "    <tr>\n",
              "      <th>4</th>\n",
              "      <td>In Peoria Arizona, I saw a cigar shaped craft ...</td>\n",
              "      <td>Peoria</td>\n",
              "      <td>NY</td>\n",
              "      <td>2009-03-15T18:00:00</td>\n",
              "      <td>cigar</td>\n",
              "      <td>2 minutes</td>\n",
              "      <td>Occurred : 3/15/2009 18:00  (Entered as : 03/1...</td>\n",
              "      <td>http://www.nuforc.org/webreports/145/S145723.html</td>\n",
              "      <td>In Peoria, Arizona, I saw a cigar shaped craft...</td>\n",
              "      <td>2019-04-18T00:00:00</td>\n",
              "      <td>NaN</td>\n",
              "      <td>NaN</td>\n",
              "    </tr>\n",
              "  </tbody>\n",
              "</table>\n",
              "</div>"
            ],
            "text/plain": [
              "                                             summary  ... city_longitude\n",
              "0  My wife was driving southeast on a fairly popu...  ...     -77.408582\n",
              "1  I think that I may caught a UFO on the NBC Nig...  ...     -72.639300\n",
              "2  I woke up late in the afternoon 3:30-4pm. I we...  ...            NaN\n",
              "3  I was driving towards the intersection of fall...  ...     -75.708501\n",
              "4  In Peoria Arizona, I saw a cigar shaped craft ...  ...            NaN\n",
              "\n",
              "[5 rows x 12 columns]"
            ]
          },
          "metadata": {
            "tags": []
          },
          "execution_count": 9
        }
      ]
    },
    {
      "cell_type": "code",
      "metadata": {
        "colab": {
          "base_uri": "https://localhost:8080/"
        },
        "id": "SSqQwpg7sOZh",
        "outputId": "ef344f1a-9347-47ca-d1ff-eb92fccb2fd2"
      },
      "source": [
        "dados['city']"
      ],
      "execution_count": null,
      "outputs": [
        {
          "output_type": "execute_result",
          "data": {
            "text/plain": [
              "0               Chester\n",
              "1            Rocky Hill\n",
              "2                   NaN\n",
              "3                Ottawa\n",
              "4                Peoria\n",
              "              ...      \n",
              "88120             Tempe\n",
              "88121           Bolivar\n",
              "88122        North Port\n",
              "88123    Black Mountain\n",
              "88124      Marin County\n",
              "Name: city, Length: 88125, dtype: object"
            ]
          },
          "metadata": {
            "tags": []
          },
          "execution_count": 10
        }
      ]
    },
    {
      "cell_type": "code",
      "metadata": {
        "colab": {
          "base_uri": "https://localhost:8080/"
        },
        "id": "xgimj8wBsxn_",
        "outputId": "a14362e8-25ad-49cd-8221-c3cae5e83bf0"
      },
      "source": [
        "dados['state']"
      ],
      "execution_count": null,
      "outputs": [
        {
          "output_type": "execute_result",
          "data": {
            "text/plain": [
              "0         VA\n",
              "1         CT\n",
              "2        NaN\n",
              "3         ON\n",
              "4         NY\n",
              "        ... \n",
              "88120     AZ\n",
              "88121     MO\n",
              "88122     FL\n",
              "88123     NC\n",
              "88124     CA\n",
              "Name: state, Length: 88125, dtype: object"
            ]
          },
          "metadata": {
            "tags": []
          },
          "execution_count": 11
        }
      ]
    },
    {
      "cell_type": "code",
      "metadata": {
        "colab": {
          "base_uri": "https://localhost:8080/"
        },
        "id": "3GUBCBlYs3WY",
        "outputId": "99c5fc90-eccb-4a1d-bc48-406570c40492"
      },
      "source": [
        "dados[\"date_time\"]"
      ],
      "execution_count": null,
      "outputs": [
        {
          "output_type": "execute_result",
          "data": {
            "text/plain": [
              "0        2019-12-12T18:43:00\n",
              "1        2019-03-22T18:30:00\n",
              "2                        NaN\n",
              "3        2019-04-17T02:00:00\n",
              "4        2009-03-15T18:00:00\n",
              "                ...         \n",
              "88120    2019-10-02T20:00:00\n",
              "88121    2019-10-02T20:00:00\n",
              "88122    2019-10-02T20:03:00\n",
              "88123    2019-10-02T22:00:00\n",
              "88124    2019-10-02T22:00:00\n",
              "Name: date_time, Length: 88125, dtype: object"
            ]
          },
          "metadata": {
            "tags": []
          },
          "execution_count": 12
        }
      ]
    },
    {
      "cell_type": "code",
      "metadata": {
        "colab": {
          "base_uri": "https://localhost:8080/"
        },
        "id": "jxm6xpBYs8PX",
        "outputId": "3553c7bf-bb12-464d-90c4-3e326494125e"
      },
      "source": [
        "dados['report_link']"
      ],
      "execution_count": null,
      "outputs": [
        {
          "output_type": "execute_result",
          "data": {
            "text/plain": [
              "0        http://www.nuforc.org/webreports/151/S151739.html\n",
              "1        http://www.nuforc.org/webreports/145/S145297.html\n",
              "2        http://www.nuforc.org/webreports/145/S145556.html\n",
              "3        http://www.nuforc.org/webreports/145/S145697.html\n",
              "4        http://www.nuforc.org/webreports/145/S145723.html\n",
              "                               ...                        \n",
              "88120    http://www.nuforc.org/webreports/149/S149463.html\n",
              "88121    http://www.nuforc.org/webreports/149/S149405.html\n",
              "88122    http://www.nuforc.org/webreports/149/S149424.html\n",
              "88123    http://www.nuforc.org/webreports/149/S149447.html\n",
              "88124    http://www.nuforc.org/webreports/149/S149436.html\n",
              "Name: report_link, Length: 88125, dtype: object"
            ]
          },
          "metadata": {
            "tags": []
          },
          "execution_count": 13
        }
      ]
    },
    {
      "cell_type": "code",
      "metadata": {
        "colab": {
          "base_uri": "https://localhost:8080/"
        },
        "id": "BfUlYaPMtGed",
        "outputId": "fdd2fc4d-b664-4e00-aa91-9d10c0dc8e63"
      },
      "source": [
        "dados['shape']"
      ],
      "execution_count": null,
      "outputs": [
        {
          "output_type": "execute_result",
          "data": {
            "text/plain": [
              "0            light\n",
              "1           circle\n",
              "2              NaN\n",
              "3         teardrop\n",
              "4            cigar\n",
              "           ...    \n",
              "88120    formation\n",
              "88121        light\n",
              "88122    formation\n",
              "88123     fireball\n",
              "88124       sphere\n",
              "Name: shape, Length: 88125, dtype: object"
            ]
          },
          "metadata": {
            "tags": []
          },
          "execution_count": 14
        }
      ]
    },
    {
      "cell_type": "code",
      "metadata": {
        "colab": {
          "base_uri": "https://localhost:8080/"
        },
        "id": "wa-V1LoPtebu",
        "outputId": "71ee6951-5a84-43c0-d433-db2675f9d8a3"
      },
      "source": [
        "dados['shape'].value_counts(normalize =True )"
      ],
      "execution_count": null,
      "outputs": [
        {
          "output_type": "execute_result",
          "data": {
            "text/plain": [
              "light        0.212900\n",
              "circle       0.118304\n",
              "triangle     0.092377\n",
              "fireball     0.082859\n",
              "unknown      0.072197\n",
              "sphere       0.070830\n",
              "other        0.067140\n",
              "disk         0.052810\n",
              "oval         0.045044\n",
              "formation    0.033190\n",
              "changing     0.024665\n",
              "cigar        0.023240\n",
              "flash        0.019562\n",
              "rectangle    0.018651\n",
              "cylinder     0.016046\n",
              "diamond      0.014867\n",
              "chevron      0.011130\n",
              "teardrop     0.008957\n",
              "egg          0.007778\n",
              "cone         0.004076\n",
              "cross        0.003375\n",
              "Name: shape, dtype: float64"
            ]
          },
          "metadata": {
            "tags": []
          },
          "execution_count": 15
        }
      ]
    },
    {
      "cell_type": "code",
      "metadata": {
        "colab": {
          "base_uri": "https://localhost:8080/"
        },
        "id": "2W9CUuSxtxIt",
        "outputId": "ef55ed3c-abfb-4a31-cb58-5bca0e7919f7"
      },
      "source": [
        "dados['city'].value_counts(normalize =True )"
      ],
      "execution_count": null,
      "outputs": [
        {
          "output_type": "execute_result",
          "data": {
            "text/plain": [
              "New York                                                  0.005746\n",
              "Phoenix                                                   0.005279\n",
              "Las Vegas                                                 0.004642\n",
              "Portland                                                  0.004426\n",
              "Seattle                                                   0.004380\n",
              "                                                            ...   \n",
              "Badin                                                     0.000011\n",
              "Cabo san Lucas (Mexico)                                   0.000011\n",
              "Passenger plane, in sea between North Spain and France    0.000011\n",
              "Colusa                                                    0.000011\n",
              "Tracadie Sheila                                           0.000011\n",
              "Name: city, Length: 16915, dtype: float64"
            ]
          },
          "metadata": {
            "tags": []
          },
          "execution_count": 16
        }
      ]
    },
    {
      "cell_type": "code",
      "metadata": {
        "colab": {
          "base_uri": "https://localhost:8080/",
          "height": 265
        },
        "id": "q7eL3dJEt03M",
        "outputId": "bd1d68a0-9267-46a0-a2b2-da0264adf41a"
      },
      "source": [
        "dados['shape'].value_counts().plot.pie()"
      ],
      "execution_count": null,
      "outputs": [
        {
          "output_type": "execute_result",
          "data": {
            "text/plain": [
              "<matplotlib.axes._subplots.AxesSubplot at 0x7f5182b7ef50>"
            ]
          },
          "metadata": {
            "tags": []
          },
          "execution_count": 17
        },
        {
          "output_type": "display_data",
          "data": {
            "image/png": "[encoded data removed]",
            "text/plain": [
              "<Figure size 432x288 with 1 Axes>"
            ]
          },
          "metadata": {
            "tags": []
          }
        }
      ]
    },
    {
      "cell_type": "code",
      "metadata": {
        "colab": {
          "base_uri": "https://localhost:8080/",
          "height": 321
        },
        "id": "nIIxCJPyt84F",
        "outputId": "544f9d10-999f-45b4-b37f-e1167da73f73"
      },
      "source": [
        "dados['shape'].value_counts().plot.bar()"
      ],
      "execution_count": null,
      "outputs": [
        {
          "output_type": "execute_result",
          "data": {
            "text/plain": [
              "<matplotlib.axes._subplots.AxesSubplot at 0x7f5182acc7d0>"
            ]
          },
          "metadata": {
            "tags": []
          },
          "execution_count": 18
        },
        {
          "output_type": "display_data",
          "data": {
            "image/png": "[encoded data removed]",
            "text/plain": [
              "<Figure size 432x288 with 1 Axes>"
            ]
          },
          "metadata": {
            "tags": [],
            "needs_background": "light"
          }
        }
      ]
    },
    {
      "cell_type": "code",
      "metadata": {
        "colab": {
          "base_uri": "https://localhost:8080/",
          "height": 450
        },
        "id": "2Y0v6BShuHPV",
        "outputId": "e027c6dd-230b-4018-9d98-b9f68d9b1dfb"
      },
      "source": [
        "#dados\n",
        "dados_filtrados = dados.query('shape == \"sphere\"')\n",
        "#dados_filtrados\n",
        "\n",
        "pd.crosstab(dados_filtrados['city'],dados_filtrados['shape']).sort_values(by='sphere', ascending=False)\n"
      ],
      "execution_count": null,
      "outputs": [
        {
          "output_type": "execute_result",
          "data": {
            "text/html": [
              "<div>\n",
              "<style scoped>\n",
              "    .dataframe tbody tr th:only-of-type {\n",
              "        vertical-align: middle;\n",
              "    }\n",
              "\n",
              "    .dataframe tbody tr th {\n",
              "        vertical-align: top;\n",
              "    }\n",
              "\n",
              "    .dataframe thead th {\n",
              "        text-align: right;\n",
              "    }\n",
              "</style>\n",
              "<table border=\"1\" class=\"dataframe\">\n",
              "  <thead>\n",
              "    <tr style=\"text-align: right;\">\n",
              "      <th>shape</th>\n",
              "      <th>sphere</th>\n",
              "    </tr>\n",
              "    <tr>\n",
              "      <th>city</th>\n",
              "      <th></th>\n",
              "    </tr>\n",
              "  </thead>\n",
              "  <tbody>\n",
              "    <tr>\n",
              "      <th>New York</th>\n",
              "      <td>34</td>\n",
              "    </tr>\n",
              "    <tr>\n",
              "      <th>Phoenix</th>\n",
              "      <td>32</td>\n",
              "    </tr>\n",
              "    <tr>\n",
              "      <th>Seattle</th>\n",
              "      <td>31</td>\n",
              "    </tr>\n",
              "    <tr>\n",
              "      <th>San Diego</th>\n",
              "      <td>30</td>\n",
              "    </tr>\n",
              "    <tr>\n",
              "      <th>Las Vegas</th>\n",
              "      <td>29</td>\n",
              "    </tr>\n",
              "    <tr>\n",
              "      <th>...</th>\n",
              "      <td>...</td>\n",
              "    </tr>\n",
              "    <tr>\n",
              "      <th>Huatulco (Mexico)</th>\n",
              "      <td>1</td>\n",
              "    </tr>\n",
              "    <tr>\n",
              "      <th>Hubbard Lake</th>\n",
              "      <td>1</td>\n",
              "    </tr>\n",
              "    <tr>\n",
              "      <th>Hubert</th>\n",
              "      <td>1</td>\n",
              "    </tr>\n",
              "    <tr>\n",
              "      <th>Hugo</th>\n",
              "      <td>1</td>\n",
              "    </tr>\n",
              "    <tr>\n",
              "      <th>wednesbury</th>\n",
              "      <td>1</td>\n",
              "    </tr>\n",
              "  </tbody>\n",
              "</table>\n",
              "<p>3294 rows × 1 columns</p>\n",
              "</div>"
            ],
            "text/plain": [
              "shape              sphere\n",
              "city                     \n",
              "New York               34\n",
              "Phoenix                32\n",
              "Seattle                31\n",
              "San Diego              30\n",
              "Las Vegas              29\n",
              "...                   ...\n",
              "Huatulco (Mexico)       1\n",
              "Hubbard Lake            1\n",
              "Hubert                  1\n",
              "Hugo                    1\n",
              "wednesbury              1\n",
              "\n",
              "[3294 rows x 1 columns]"
            ]
          },
          "metadata": {
            "tags": []
          },
          "execution_count": 55
        }
      ]
    },
    {
      "cell_type": "code",
      "metadata": {
        "id": "ku4d8dFDuoYU"
      },
      "source": [
        ""
      ],
      "execution_count": null,
      "outputs": []
    }
  ]
}